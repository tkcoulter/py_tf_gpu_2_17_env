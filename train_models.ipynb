{
 "cells": [
  {
   "cell_type": "code",
   "execution_count": 1,
   "id": "f7fcc0c4-7efe-4fcc-a9a8-706c2e825f21",
   "metadata": {},
   "outputs": [
    {
     "name": "stderr",
     "output_type": "stream",
     "text": [
      "2024-10-24 04:15:33.225421: I tensorflow/core/platform/cpu_feature_guard.cc:210] This TensorFlow binary is optimized to use available CPU instructions in performance-critical operations.\n",
      "To enable the following instructions: AVX2 FMA, in other operations, rebuild TensorFlow with the appropriate compiler flags.\n"
     ]
    },
    {
     "name": "stdout",
     "output_type": "stream",
     "text": [
      "\n",
      "/workspaces/py_tf_2_17_env\n",
      "['test_labels.csv', 'test_operational_readouts.csv', 'test_specifications.csv', 'train_operational_readouts.csv', 'train_specifications.csv', 'train_tte.csv', 'validation_labels.csv', 'validation_operational_readouts.csv', 'validation_specifications.csv']\n",
      "Maximum sequence length: 303\n",
      "\n",
      "Sequence length statistics:\n",
      "count    23550.000000\n",
      "mean        47.662505\n",
      "std         27.406028\n",
      "min          5.000000\n",
      "25%         28.000000\n",
      "50%         43.000000\n",
      "75%         64.000000\n",
      "max        303.000000\n",
      "dtype: float64\n"
     ]
    },
    {
     "name": "stderr",
     "output_type": "stream",
     "text": [
      "100%|███████████████████████████████████| 23550/23550 [00:10<00:00, 2242.17it/s]\n"
     ]
    },
    {
     "name": "stdout",
     "output_type": "stream",
     "text": [
      "\n",
      "Training set size: 16483\n",
      "Validation set size: 3534\n",
      "Test set size: 3533\n",
      "\n",
      "Class 4 distribution:\n",
      "Training set: 8.73%\n",
      "Validation set: 8.52%\n",
      "Test set: 7.36%\n"
     ]
    }
   ],
   "source": [
    "import os\n",
    "from load_data import load_and_prepare_dataset, stratified_train_test_split\n",
    "\n",
    "print()\n",
    "print(os.getcwd())\n",
    "\n",
    "dataset_dir = \"../scania/\"\n",
    "print(sorted(os.listdir(dataset_dir)))\n",
    "\n",
    "df_train = load_and_prepare_dataset(dataset_dir)\n",
    "X_train, y_train, X_val, y_val, X_test, y_test = stratified_train_test_split(df_train)\n",
    "use_class_labels = True\n"
   ]
  },
  {
   "cell_type": "code",
   "execution_count": 2,
   "id": "80dfaf09-583d-40e5-817c-5c00e541382c",
   "metadata": {},
   "outputs": [
    {
     "name": "stdout",
     "output_type": "stream",
     "text": [
      "(303, 2)\n"
     ]
    }
   ],
   "source": [
    "print(y_train[0].shape)"
   ]
  },
  {
   "cell_type": "code",
   "execution_count": 3,
   "id": "e87eec4e-021e-4763-a67f-f3498b87ead8",
   "metadata": {},
   "outputs": [
    {
     "name": "stdout",
     "output_type": "stream",
     "text": [
      "[335.8 311.6 305.2 298.4 292.4 286.2 284.  277.8 271.8 270.  265.8 263.8\n",
      " 263.6 257.6 256.8 250.6 244.6 238.4 232.2 226.2 220.2 216.6 210.6 205.4\n",
      " 199.4 198.  193.  192.8 186.  180.  173.6 167.6 161.  158.8 152.6 146.4\n",
      " 140.  135.6 129.6 123.6 122.8 120.8 120.6 118.2 112.  106.  100.   92.\n",
      "  83.8  83.6  77.   71.   53.   42.8  13.4  -1.   -1.   -1.   -1.   -1.\n",
      "  -1.   -1.   -1.   -1.   -1.   -1.   -1.   -1.   -1.   -1.   -1.   -1.\n",
      "  -1.   -1.   -1.   -1.   -1.   -1.   -1.   -1.   -1.   -1.   -1.   -1.\n",
      "  -1.   -1.   -1.   -1.   -1.   -1.   -1.   -1.   -1.   -1.   -1.   -1.\n",
      "  -1.   -1.   -1.   -1.   -1.   -1.   -1.   -1.   -1.   -1.   -1.   -1.\n",
      "  -1.   -1.   -1.   -1.   -1.   -1.   -1.   -1.   -1.   -1.   -1.   -1.\n",
      "  -1.   -1.   -1.   -1.   -1.   -1.   -1.   -1.   -1.   -1.   -1.   -1.\n",
      "  -1.   -1.   -1.   -1.   -1.   -1.   -1.   -1.   -1.   -1.   -1.   -1.\n",
      "  -1.   -1.   -1.   -1.   -1.   -1.   -1.   -1.   -1.   -1.   -1.   -1.\n",
      "  -1.   -1.   -1.   -1.   -1.   -1.   -1.   -1.   -1.   -1.   -1.   -1.\n",
      "  -1.   -1.   -1.   -1.   -1.   -1.   -1.   -1.   -1.   -1.   -1.   -1.\n",
      "  -1.   -1.   -1.   -1.   -1.   -1.   -1.   -1.   -1.   -1.   -1.   -1.\n",
      "  -1.   -1.   -1.   -1.   -1.   -1.   -1.   -1.   -1.   -1.   -1.   -1.\n",
      "  -1.   -1.   -1.   -1.   -1.   -1.   -1.   -1.   -1.   -1.   -1.   -1.\n",
      "  -1.   -1.   -1.   -1.   -1.   -1.   -1.   -1.   -1.   -1.   -1.   -1.\n",
      "  -1.   -1.   -1.   -1.   -1.   -1.   -1.   -1.   -1.   -1.   -1.   -1.\n",
      "  -1.   -1.   -1.   -1.   -1.   -1.   -1.   -1.   -1.   -1.   -1.   -1.\n",
      "  -1.   -1.   -1.   -1.   -1.   -1.   -1.   -1.   -1.   -1.   -1.   -1.\n",
      "  -1.   -1.   -1.   -1.   -1.   -1.   -1.   -1.   -1.   -1.   -1.   -1.\n",
      "  -1.   -1.   -1.   -1.   -1.   -1.   -1.   -1.   -1.   -1.   -1.   -1.\n",
      "  -1.   -1.   -1.   -1.   -1.   -1.   -1.   -1.   -1.   -1.   -1.   -1.\n",
      "  -1.   -1.   -1. ]\n"
     ]
    }
   ],
   "source": [
    "print(y_train[0][:,0])\n"
   ]
  },
  {
   "cell_type": "code",
   "execution_count": null,
   "id": "e2dd5817-394e-4f84-a3a2-b7b110052ed4",
   "metadata": {},
   "outputs": [],
   "source": []
  }
 ],
 "metadata": {
  "kernelspec": {
   "display_name": "Python 3 (ipykernel)",
   "language": "python",
   "name": "python3"
  },
  "language_info": {
   "codemirror_mode": {
    "name": "ipython",
    "version": 3
   },
   "file_extension": ".py",
   "mimetype": "text/x-python",
   "name": "python",
   "nbconvert_exporter": "python",
   "pygments_lexer": "ipython3",
   "version": "3.11.0rc1"
  }
 },
 "nbformat": 4,
 "nbformat_minor": 5
}
